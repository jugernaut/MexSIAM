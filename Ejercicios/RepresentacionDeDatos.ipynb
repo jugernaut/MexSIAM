{
  "cells": [
    {
      "cell_type": "markdown",
      "metadata": {
        "id": "view-in-github",
        "colab_type": "text"
      },
      "source": [
        "<a href=\"https://colab.research.google.com/github/jugernaut/MexSIAM/blob/main/Ejercicios/RepresentacionDeDatos.ipynb\" target=\"_parent\"><img src=\"https://colab.research.google.com/assets/colab-badge.svg\" alt=\"Open In Colab\"/></a>"
      ]
    },
    {
      "cell_type": "markdown",
      "metadata": {
        "deletable": false,
        "editable": false,
        "id": "3HIOuyhzps7A",
        "nbgrader": {
          "cell_type": "markdown",
          "checksum": "95676e2022ee6e6fb483d0111e090d21",
          "grade": false,
          "grade_id": "cell-fcc5055a29935792",
          "locked": true,
          "schema_version": 3,
          "solution": false,
          "task": false
        }
      },
      "source": [
        "<font color=\"Teal\" face=\"Comic Sans MS,arial\">\n",
        "  <h1 align=\"center\"><i>Rrepresetación de Datos</i></h1>\n",
        "  </font>\n",
        "  <font color=\"Black\" face=\"Comic Sans MS,arial\">\n",
        "  <h5 align=\"center\"><i>Profesor: M. en C. Miguel Angel Pérez León</i></h5>\n",
        "</font>"
      ]
    },
    {
      "cell_type": "markdown",
      "metadata": {
        "deletable": false,
        "editable": false,
        "nbgrader": {
          "cell_type": "markdown",
          "checksum": "e3c4b54447cdba4b2ce4d75f6620c947",
          "grade": false,
          "grade_id": "cell-94a938e213a24a3e",
          "locked": true,
          "schema_version": 3,
          "solution": false,
          "task": false
        },
        "id": "9KCCy2w6eytM"
      },
      "source": [
        "## Las siguientes lineas son de apoyo para que ustedes sólo procesen los ejercicios\n",
        "\n",
        "**Es necesario ejecutar las siguientes celdas, de otra forma no podrás realizar los ejercicios.**"
      ]
    },
    {
      "cell_type": "code",
      "execution_count": null,
      "metadata": {
        "deletable": false,
        "editable": false,
        "nbgrader": {
          "cell_type": "code",
          "checksum": "3977cab6222bcdeccd7d642524f49d30",
          "grade": true,
          "grade_id": "cell-dd75cc5e0feb8531",
          "locked": true,
          "points": 0,
          "schema_version": 3,
          "solution": false,
          "task": false
        },
        "id": "zcz5qXMReytM"
      },
      "outputs": [],
      "source": [
        "# bibliotecas de evaluacion automatizada\n",
        "import numpy as np   \n",
        "from macti.evaluacion import Evalua\n",
        "evaluacion = Evalua('../../../MexSIAM/Ejercicios/utils/data/Diccionarios', local=True)"
      ]
    },
    {
      "cell_type": "markdown",
      "metadata": {
        "deletable": false,
        "editable": false,
        "id": "ElKDaY9AqDnp",
        "nbgrader": {
          "cell_type": "markdown",
          "checksum": "ae955622db8a3d261cde506b27565b77",
          "grade": false,
          "grade_id": "cell-0a7aa1bbb52256c2",
          "locked": true,
          "schema_version": 3,
          "solution": false,
          "task": false
        }
      },
      "source": [
        "# Introducción\n",
        "\n",
        "Una de las aplicaciones más comúnes que se le da al aprendizaje automaizado, es la clasificación de documentos (facturas, demandas, notas, etc.) y para ellos es necesario encontrar una forma de \"mapear\" un documento de texto en \"algo\" que pueda ser procesado y clasificado por una red neuroal.\n",
        "\n",
        "Ese algo toma el nombre de **vector característico** y simplemente consiste en encontrar una forma de representar a cada elemento de este espacio multidimensional mediante un vector."
      ]
    },
    {
      "cell_type": "markdown",
      "metadata": {
        "deletable": false,
        "editable": false,
        "id": "XRGwWQkOqKWG",
        "nbgrader": {
          "cell_type": "markdown",
          "checksum": "5fc541012bb4fc144a20f3642b0f4443",
          "grade": false,
          "grade_id": "cell-4c419c8e1f0a701f",
          "locked": true,
          "schema_version": 3,
          "solution": false,
          "task": false
        }
      },
      "source": [
        "## Plantemaniento del problema\n",
        "\n",
        "Supongamos que se tiene una empresa (caso real) que se dedica a la digitalización de documentos y como servicio agregado desea clasificar cada uno de los documentos que digitaliza.\n",
        "\n",
        "La idea es usar algún mecanismo de clasificación automatizada para poder llevar a cabo la labor."
      ]
    },
    {
      "cell_type": "markdown",
      "metadata": {
        "deletable": false,
        "editable": false,
        "id": "pGoRyhoqqKR8",
        "nbgrader": {
          "cell_type": "markdown",
          "checksum": "6ecc81489dbfda017f6722f603906ac8",
          "grade": false,
          "grade_id": "cell-928fa4574107fd40",
          "locked": true,
          "schema_version": 3,
          "solution": false,
          "task": false
        }
      },
      "source": [
        "# Diccionario\n",
        "\n",
        "El primer paso consiste en identificar cada una de las palabras que puede aparecer en los documentos a clasificar (espacio vectorial), a este conjunto de palabras se le conoce como **diccionario**.\n",
        "\n",
        "Esta labora es relativamente sencilla de realizar gracias a una estructura de datos conocida como *tablas hash* y una de sus implementaciones en *python* se conoce como diccionarios y se representa mediante el símbolo \"{}\".\n",
        "\n",
        "A continuación se listan algunos características impor tantes de las *tablas hash\"."
      ]
    },
    {
      "cell_type": "markdown",
      "metadata": {
        "deletable": false,
        "editable": false,
        "id": "FQpzxO_8qKOu",
        "nbgrader": {
          "cell_type": "markdown",
          "checksum": "6e16d6da7d928cef47e713d788be586f",
          "grade": false,
          "grade_id": "cell-3eb891909c7afe48",
          "locked": true,
          "schema_version": 3,
          "solution": false,
          "task": false
        }
      },
      "source": [
        "## Características \n",
        "\n",
        "La función *hash* depende en gran medida del **conjunto de llaves (dominio)** sobre el cual sera definida y también depende del **uso que se le vaya a dar** al la tabla *hash*.\n",
        "\n",
        "Sin embargo existen 3 propiedades que siempre debe cumplir una función *hash*: \n",
        "\n",
        "*   **Debe ser inyectiva** o dicho de otra manera, debe evitar colisiones en la medida de lo posible, es decir. Sea $f$ la función hash, $X$ el conjunto de llaves (dominio) y $Y$ el conjunto de valores (codominio). $$f:X\\rightarrow Y\\,\\,\\,\\,\\forall a,b\\in X\\,\\mid f(a)=f(b)\\Rightarrow a=b$$.\n",
        "*   **No debe involucrar demasiados cálculos**, ya que de otra manera las operaciones sobre la tabla hash incrementan su costo (recursos).\n",
        "*   **No debe ser posible su reconstrucción** tomando como base la salida de esta.\n"
      ]
    },
    {
      "cell_type": "markdown",
      "metadata": {
        "deletable": false,
        "editable": false,
        "id": "Rvh4azTzqKJr",
        "nbgrader": {
          "cell_type": "markdown",
          "checksum": "2fe717e7f820bf9948eef387626101c0",
          "grade": false,
          "grade_id": "cell-5f8b8f8fba9d197e",
          "locked": true,
          "schema_version": 3,
          "solution": false,
          "task": false
        }
      },
      "source": [
        "## Ejemplo función *hash*\n",
        "\n",
        "El siguiente ejemplo muestra una de muchas formas en como se puede definir la función *hash*, en este ejemplo a la función *hash* le vamos a decir \"polinomio de direccionamiento\" y se emplea de manera frecuente en las ciencias de la computación.\n",
        "\n",
        "Supongamos que contamos con la siguiente matriz.\n",
        "\n",
        "$$Sea\\,A\\in M_{2x2}=\\left(\\begin{array}{cc}\n",
        "3_{(0,0)} & 6_{(0,1)}\\\\\n",
        "7_{(1,0)} & 9_{(1,1)}\n",
        "\\end{array}\\right)$$\n",
        "\n",
        "Por razones de espacio en memoria, necesitamos almacenar los elementos de $A$ en un objeto lineal, digamos una lista. De tal manera que los elementos de $A$ se vean así. \n",
        "\n",
        "$$\\left[\\begin{array}{cccc}\n",
        "3_{0} & 6_{1} & 7_{2} & 9_{3}\\end{array}\\right]$$\n",
        "\n",
        "Dicho en otras palabras, **necesitamos mapear las tuplas que representan las posiciones de los valores de $A$ en posiciones dentro de la lista**.\n",
        "\n",
        "Para llevar a cabo este mapeo necesitamos una función *hash*, que en este caso dicha función debe tomar una tupla que representa la entrada de $A$ y debe devolver una localidad de la lista. Es decir.\n",
        "\n",
        "$$X=\\{(0,0),(0,1),(1,0),(1,1)\\},Y=\\{0,1,2,3\\},f:X\\rightarrow Y$$\n",
        "\n",
        "Nos gustaría que la entrada (0,0) de A fuera mapeada a la localidad 0 de la lista y así sucesivamente hasta llegar a que la entrada (1,1) se mapeara a la localidad 3 del arreglo, es decir\n",
        "\n",
        "\\begin{array}{cc}\n",
        "f((0,0))=0 & f((0,1))=1\\\\\n",
        "f((1,0))=2 & f((1,1))=3\n",
        "\\end{array}\n",
        "\n",
        "Podríamos pensar que una buena forma de definir a $f$, seria $f((x,y))=x+y$, pero veamos que sucede al probarla.\n",
        "\n",
        "\\begin{array}{c}\n",
        "f((0,0))=0+0=0.......\\color{green}{¡bien!}\\\\\n",
        "f((0,1))=0+1=1.......\\color{green}{¡bien!}\n",
        "\\end{array}\n",
        "\n",
        "\\begin{array}{c}\n",
        "f((1,0))=1+0=1.......\\color{red}{¡colisi\\acute{o}n!}\\\\\n",
        "f((0,1))=1=f((1,0))\n",
        "\\end{array}\n",
        "\n",
        "Dado que se tuvo una colisión, es necesario re-definirla de otra manera menos ingenua. Veamos que sucede si definimos a $f$ de la siguiente manera.\n",
        "\n",
        "$$f((x,y))=2x+y$$\n",
        "\n",
        "Al probarla, lo que obtenemos es.\\begin{array}{c}\n",
        "f((0,0))=2*0+0=0\\\\\n",
        "f((0,1))=2*0+1=1\\\\\n",
        "f((1,0))=2*1+0=2\\\\\n",
        "f((1,1))=2*1+1=3\n",
        "\\end{array}\n",
        "\n",
        "Esta función, no muestra colisiones (al menos en el dominio y codominio definidos), incluso se podría probar que no presentará colisiones para ningún par de tuplas de naturales. Ademas cumple con el resto de las propiedades."
      ]
    },
    {
      "cell_type": "markdown",
      "metadata": {
        "deletable": false,
        "editable": false,
        "id": "4ebSFWQRqJ22",
        "nbgrader": {
          "cell_type": "markdown",
          "checksum": "6afa9006a7dd081f2677f4dbad5a0d64",
          "grade": false,
          "grade_id": "cell-952b14a01faccd07",
          "locked": true,
          "schema_version": 3,
          "solution": false,
          "task": false
        }
      },
      "source": [
        "### Forma general del polinomio de direccionamiento\n",
        "\n",
        "Así que podemos pensar, que para el caso particular de matrices bidimensionales $A_{(i,j)}\\in M_{ren\\,x\\,col}$ podemos definir la función hash que mapea localidades de dicha matriz en una lista (arreglo) unidimensional de la siguiente forma.\n",
        "\n",
        "$$f((i,j))=col*i+j$$\n",
        "\n",
        "<center>\n",
        "<img src=\"https://github.com/jugernaut/ManejoDatos/blob/desarrollo/Imagenes/AlgoritmosBusqueda/poli.png?raw=1\" width=\"400\"> \n",
        "</center>\n",
        "\n",
        "En la imagen podemos ver como se almacena una matriz en localidades de memoria en una computadora, los valores $\\{100, 101, ... , 105\\}$ representan las localidades de la memoria y los valores $\\{X[1,1],X[2,1],...,X[3,2]\\}$ representan los valores de la matriz $X$.\n"
      ]
    },
    {
      "cell_type": "markdown",
      "metadata": {
        "deletable": false,
        "editable": false,
        "id": "tuZlv_y-qJw-",
        "nbgrader": {
          "cell_type": "markdown",
          "checksum": "24db11bee30760a7af6bf3819e612761",
          "grade": false,
          "grade_id": "cell-03055a9d875e8f99",
          "locked": true,
          "schema_version": 3,
          "solution": false,
          "task": false
        }
      },
      "source": [
        "# Ventajas y desventajas de una tabla *hash*\n",
        "\n",
        "Ya que vimos como es que se construye y se utiliza una tabla de dispersión, vamos a analizar sus ventajas y desventajas:\n",
        "\n",
        "* La principal ventaja es que **el orden de complejidad para insertar, buscar o eliminar en una tabla *hash* es constante**, es decir $O(1)$.\n",
        "\n",
        "* Si la función *hash* fue definida siguiendo las características que se piden para este tipo de funciones, utilizar una tabla *hash* se vuelve un procedimiento muy **eficiente y seguro**.\n",
        "\n",
        "* La principal desventaja de una tabla *hash* es el hecho de que **ni las llaves, ni los valores están obligados a conservar un orden**, así que es difícil ordenar por algún criterio una tabla *hash*.\n",
        "\n",
        "* Otra desventaja es que **a veces es complicado evitar las colisiones**, así que se tiene que hacer uso de alguna técnica adicional para poder resolver las colisiones."
      ]
    },
    {
      "cell_type": "markdown",
      "metadata": {
        "deletable": false,
        "editable": false,
        "id": "ZA5kaSJNqJqE",
        "nbgrader": {
          "cell_type": "markdown",
          "checksum": "358b3e58531cefa74101c94fa0682424",
          "grade": false,
          "grade_id": "cell-28e35c7faf67eae5",
          "locked": true,
          "schema_version": 3,
          "solution": false,
          "task": false
        }
      },
      "source": [
        "# Diccionarios en *Python*\n",
        "\n",
        "Los diccionarios de *Python*, son una de muchas formas de poner en práctica el concepto de tablas *hash*, son muy útiles y fáciles de usar.\n",
        "\n",
        "Además como ya vienen incluidos dentro de las paqueterias de *Python* no hace falta instalar, ni si quiera importar algun paquete para poder hacer uso de los diccionarios."
      ]
    },
    {
      "cell_type": "markdown",
      "metadata": {
        "deletable": false,
        "editable": false,
        "id": "2Rbh3uLhqJiM",
        "nbgrader": {
          "cell_type": "markdown",
          "checksum": "96c6077686e9c9b2ae8f4dcd72e90bbe",
          "grade": false,
          "grade_id": "cell-82a1b65aa556b5f4",
          "locked": true,
          "schema_version": 3,
          "solution": false,
          "task": false
        }
      },
      "source": [
        "## Diccionarios\n",
        "\n",
        "Dado que las tablas *hash* son muy útiles, la gran mayoría de los lenguajes ya cuenta con alguna implementación de estas, sin embargo a veces es necesario revisar la documentación para poder hacer uso de estas implementaciones. \n",
        "\n",
        "Por el contrario, *Python* muy a su estilo (*Pythonic way*) cuenta con una implementación (de las muchas que existen) de las tablas *hash* conocida como **diccionarios**. Esta implementación es muy sencilla e intuitiva de utilizar.\n",
        "\n",
        "La idea detrás de los diccionarios de **Python** es básicamente la misma que la de las tablas *hash*, con la peculiaridad de que el usuario no esta obligado a definir la funcion *hash*.\n",
        "\n",
        "Es decir que es suficiente con proporcionar la llave y el valor asociado a esta y *Python* se encarga de relacionarlos."
      ]
    },
    {
      "cell_type": "markdown",
      "metadata": {
        "deletable": false,
        "editable": false,
        "id": "SUGzOiL6qJaQ",
        "nbgrader": {
          "cell_type": "markdown",
          "checksum": "b8253fe666f0aa571c6a299e1b2ce2f1",
          "grade": false,
          "grade_id": "cell-2462caf9342f2230",
          "locked": true,
          "schema_version": 3,
          "solution": false,
          "task": false
        }
      },
      "source": [
        "## Sintaxis de los diccionarios\n",
        "\n",
        "Este tipo de estructuras se emplea principalmente en *data mining* o *big data*, pero no es su único uso, también se puede usar en áreas como *deep learning* o incluso en *natural language processing*. A continuación se muestra un ejemplo de como usar los diccionarios de *Python*.\n",
        "\n",
        "* `diccionario = {}`: instrucción para crear un diccionario vacío.\n",
        "\n",
        "* `diccionario['llave'] = valor`: insertamos una llave y un valor en caso de no existir ó se actualiza el valor asociado a la llave.\n",
        "\n",
        "* `print(diccionario)`: se imprime el diccionario.\n",
        "\n",
        "* `del(diccionario[llave])`: borra la llave y valor asociado a esta.\n",
        "\n",
        "* `diccionario.clear()`: borra todas las llaves y valores dentro del diccionario."
      ]
    },
    {
      "cell_type": "markdown",
      "metadata": {
        "deletable": false,
        "editable": false,
        "id": "gFt6GN82iXx1",
        "nbgrader": {
          "cell_type": "markdown",
          "checksum": "087e4e129a2a1696a53a53317e694cbf",
          "grade": false,
          "grade_id": "cell-2bf8427fa1538c61",
          "locked": true,
          "schema_version": 3,
          "solution": false,
          "task": false
        }
      },
      "source": [
        "## Ejemplo diccionarios *Python*\n",
        "\n",
        "Para el siguiente ejemplo vamos a usar el archivo *ManejoDatos9180.txt* que hemos usado en ocasiones previas.\n",
        "\n",
        "La diferencia principal es que en esta ocasión vamos a usar diccionarios para almacenar los datos de los alumnos, en lugar de usar una clase para almacenar estos datos."
      ]
    },
    {
      "cell_type": "code",
      "execution_count": null,
      "metadata": {
        "deletable": false,
        "editable": false,
        "id": "5mS23fksi108",
        "nbgrader": {
          "cell_type": "code",
          "checksum": "fe4a378685b111fee51529997c201d9e",
          "grade": true,
          "grade_id": "cell-d32c43efb5d53fa7",
          "locked": true,
          "points": 0,
          "schema_version": 3,
          "solution": false,
          "task": false
        }
      },
      "outputs": [],
      "source": [
        "!wget https://raw.githubusercontent.com/jugernaut/ManejoDatos/desarrollo/utils/ManejodeDatos9180.txt"
      ]
    },
    {
      "cell_type": "markdown",
      "metadata": {
        "deletable": false,
        "editable": false,
        "id": "tCcpuWwti2vC",
        "nbgrader": {
          "cell_type": "markdown",
          "checksum": "b219820525df7ba294474b9dbaff9968",
          "grade": false,
          "grade_id": "cell-e4c918eff818de3e",
          "locked": true,
          "schema_version": 3,
          "solution": false,
          "task": false
        }
      },
      "source": [
        "Una vez que tenemos el archivo en la sesión de *Google Colab*, ahora necesitamos leerlo y usando *regex* vamos a capturar los datos de los alumnos en un diccionario y posteriormente mostramos el contenido de los diccionarios."
      ]
    },
    {
      "cell_type": "code",
      "execution_count": null,
      "metadata": {
        "deletable": false,
        "id": "JbVooa3TjFQP",
        "nbgrader": {
          "cell_type": "code",
          "checksum": "9a1218234160f52600a88e853cd6663f",
          "grade": false,
          "grade_id": "cell-d14effdb6b74aa7b",
          "locked": false,
          "schema_version": 3,
          "solution": true,
          "task": false
        }
      },
      "outputs": [],
      "source": [
        "# YOUR CODE HERE\n",
        "raise NotImplementedError()"
      ]
    },
    {
      "cell_type": "markdown",
      "metadata": {
        "deletable": false,
        "editable": false,
        "id": "AfbNdN54Nz3x",
        "nbgrader": {
          "cell_type": "markdown",
          "checksum": "1321b994d39b386cdd1dd91724dcbbf7",
          "grade": false,
          "grade_id": "cell-bf86512a22323bb8",
          "locked": true,
          "schema_version": 3,
          "solution": false,
          "task": false
        }
      },
      "source": [
        "# Vector Característico\n",
        "\n",
        "Supongamos que uno de los documentos que necesitamos clasificar de manera automática es el documento \"inteligencia.txt\".\n",
        "\n",
        "Para poder clasificarlo de manera tradicional (a mano) una forma de hacerlo es, leer palabra por palabra y contar la **frecuencia** de cada una de estas palabras. Probablemente para un par de documentos sea algo asequible procesarlos de esta forma pero para miles de documentos, estos se vuelve una tarea imposible.\n",
        "\n",
        "Lo ideal es usar los diccionarios de *pthon* y dejar que ellos se encarguen."
      ]
    },
    {
      "cell_type": "markdown",
      "metadata": {
        "deletable": false,
        "editable": false,
        "id": "_n6-EsdTb3zI",
        "nbgrader": {
          "cell_type": "markdown",
          "checksum": "d729ca8b4689a5e1205c5818fa5e6591",
          "grade": false,
          "grade_id": "cell-b103f98c4e2a1ac8",
          "locked": true,
          "schema_version": 3,
          "solution": false,
          "task": false
        }
      },
      "source": [
        "## Contador de palabras\n",
        "\n",
        "En esta ocasión vamos a usar los diccionarios de *Python* para contar la frecuencia de las palabras en un determinado texto.\n",
        "\n",
        "Para tal fin vamos a agregar descarar el texto del cual queremos contar la aparición de las palabras.\n",
        "\n"
      ]
    },
    {
      "cell_type": "code",
      "execution_count": null,
      "metadata": {
        "deletable": false,
        "editable": false,
        "id": "vZ8Uy7fPcF9A",
        "nbgrader": {
          "cell_type": "code",
          "checksum": "3ac5a75299ba0a2d9408421bdab93fad",
          "grade": true,
          "grade_id": "cell-8fb4a10c5b5f2441",
          "locked": true,
          "points": 0,
          "schema_version": 3,
          "solution": false,
          "task": false
        }
      },
      "outputs": [],
      "source": [
        "!wget https://raw.githubusercontent.com/jugernaut/ManejoDatos/desarrollo/utils/inteligencia.txt"
      ]
    },
    {
      "cell_type": "markdown",
      "metadata": {
        "deletable": false,
        "editable": false,
        "id": "BlwqaYwScayd",
        "nbgrader": {
          "cell_type": "markdown",
          "checksum": "6b4f3bfa75cb4dfd8dcbd8e112744635",
          "grade": false,
          "grade_id": "cell-e1798c1bb79b5e9e",
          "locked": true,
          "schema_version": 3,
          "solution": false,
          "task": false
        }
      },
      "source": [
        "Ya con el texto en la sesión de lo siguiente es utilizar los diccionarios de *Python* para usar las palabras dentro del texto como llaves y la aparición de las palabras en el texto como valores."
      ]
    },
    {
      "cell_type": "code",
      "execution_count": null,
      "metadata": {
        "deletable": false,
        "id": "vzjDRv9Hc3pS",
        "nbgrader": {
          "cell_type": "code",
          "checksum": "3f40941357c81ec46ba918ae9b798dd0",
          "grade": false,
          "grade_id": "cell-b25d3d57eff6f5a6",
          "locked": false,
          "schema_version": 3,
          "solution": true,
          "task": false
        }
      },
      "outputs": [],
      "source": [
        "# YOUR CODE HERE\n",
        "raise NotImplementedError()"
      ]
    },
    {
      "cell_type": "markdown",
      "metadata": {
        "deletable": false,
        "editable": false,
        "nbgrader": {
          "cell_type": "markdown",
          "checksum": "c92607291e93ae7eb3bf056b7b15c123",
          "grade": false,
          "grade_id": "cell-bae4160958bf1d0b",
          "locked": true,
          "schema_version": 3,
          "solution": false,
          "task": false
        },
        "id": "ATMVMdsFeytW"
      },
      "source": [
        "# Obtener el vector característico\n",
        "\n",
        "Considerando la función `data_mining(ruta)` que devuelve el diccionario con la frecuencia de las palabras en el documento ubicado en `ruta` modifica el resultado de la función `data_mining(ruta)` para obtener solo un vector con la frecuencia de las palabras, el resultado debería ser similar a lo siguiente `[51, 17, 15, 14, 12, 10, 10, 10, 9, 9, 6, 6, 5, 5, 5, 4, 4, 4, 4, 4, 3, 3, 3, 3, 3, 3, 3, 3, 2, 2, 2, 2, 2, 2, 2, 2, 2, 2, 2,....]` donde cada una de las entradas de este vector es la frecuencia de las palabras."
      ]
    },
    {
      "cell_type": "code",
      "execution_count": null,
      "metadata": {
        "deletable": false,
        "nbgrader": {
          "cell_type": "code",
          "checksum": "901635fb4fd501623a3b60bf5f2b65d2",
          "grade": false,
          "grade_id": "cell-356c7bce97a45fbb",
          "locked": false,
          "schema_version": 3,
          "solution": true,
          "task": false
        },
        "id": "-XWmcdn6eytW"
      },
      "outputs": [],
      "source": [
        "import numpy as np\n",
        "\n",
        "vector_caracteristico = []\n",
        "\n",
        "# YOUR CODE HERE\n",
        "raise NotImplementedError()"
      ]
    },
    {
      "cell_type": "code",
      "execution_count": null,
      "metadata": {
        "deletable": false,
        "editable": false,
        "nbgrader": {
          "cell_type": "code",
          "checksum": "6b86022135668b1c4ecbfe8e7080c01f",
          "grade": true,
          "grade_id": "cell-74f91253a10257ed",
          "locked": true,
          "points": 0,
          "schema_version": 3,
          "solution": false,
          "task": false
        },
        "id": "uWl8Q5-aeytX"
      },
      "outputs": [],
      "source": [
        "evaluacion.verifica(np.array(vector_caracteristico), 1)"
      ]
    },
    {
      "cell_type": "markdown",
      "metadata": {
        "deletable": false,
        "editable": false,
        "id": "MMOa0DdUdoyA",
        "nbgrader": {
          "cell_type": "markdown",
          "checksum": "3db58f31fcd5d79d16063390f0dba666",
          "grade": false,
          "grade_id": "cell-d4ce4152f157d370",
          "locked": true,
          "schema_version": 3,
          "solution": false,
          "task": false
        }
      },
      "source": [
        "La primera lista representa el diccionario con el siguiente formato *'palabra':frecuencia* y la segunda lista, es el diccionario en forma de tuplas pero ya ordenadas de por frecuencia en orden decreciente.\n",
        "\n",
        "De tal manera que podemos apreciar que la palabra que más aparece en el texto *inteligencia.txt* (descontando artículos, pronombres y preposiciones) es **Aprendizaje**.\n",
        "\n",
        "Dependiendo de como haya sido definido el diccionario global, esta lista sería el **vector caractistico** de este documento, es decir es un vector que lo representa y mediante el cual puede ser procesado por un *SOM*(igual que los colores) como se vio en la presentación pasada."
      ]
    },
    {
      "cell_type": "markdown",
      "metadata": {
        "deletable": false,
        "editable": false,
        "id": "mE-_tFNJfwkZ",
        "nbgrader": {
          "cell_type": "markdown",
          "checksum": "96abc4e29f352516ab19aecbfadaae4c",
          "grade": false,
          "grade_id": "cell-d787ca49f9309097",
          "locked": true,
          "schema_version": 3,
          "solution": false,
          "task": false
        }
      },
      "source": [
        "## Ley de Zipf\n",
        "\n",
        "La ley de Zipf es una ley empírica que describe la relación entre la frecuencia y el rango de las palabras en un texto o en un idioma. Según esta ley, la frecuencia de una palabra es inversamente proporcional a su rango, es decir, la palabra más usada tiene una frecuencia dos veces mayor que la segunda más usada, tres veces mayor que la tercera más usada, y así sucesivamente. Esta ley se cumple en la mayoría de las lenguas naturales y artificiales, y también se aplica a otros fenómenos sociales y matemáticos ."
      ]
    },
    {
      "cell_type": "markdown",
      "metadata": {
        "deletable": false,
        "editable": false,
        "id": "qmstd-_3Q7D6",
        "nbgrader": {
          "cell_type": "markdown",
          "checksum": "7979d9de95f27200dcc78cf000b5d1e4",
          "grade": false,
          "grade_id": "cell-bd60c6889c48b2e6",
          "locked": true,
          "schema_version": 3,
          "solution": false,
          "task": false
        }
      },
      "source": [
        "# Preprocesamiento de datos\n",
        "\n",
        "Siempre es muy útil \"eliminar el ruido\" que pueda haber en los datos a procesar. Con los documentos diitalizados, eso significa eliminar las palabras que no sean legibles y para las imagenes eso significa eliminar los pixeles que no puedan ser identificados.\n",
        "\n",
        "El preprocesamiento puede ser de diferentes formas, en el caso de las imágenes eso significa pasarlas a escala de grises para que puedan ser procesadas de mejor manera."
      ]
    },
    {
      "cell_type": "markdown",
      "metadata": {
        "deletable": false,
        "editable": false,
        "id": "HzT2Ru3rqGhW",
        "nbgrader": {
          "cell_type": "markdown",
          "checksum": "1ffe2d0e2746c2a657c75f4023624928",
          "grade": false,
          "grade_id": "cell-13c2d21a03c30ec5",
          "locked": true,
          "schema_version": 3,
          "solution": false,
          "task": false
        }
      },
      "source": [
        "# Referencias\n",
        "\n",
        "*  Thomas H. Cormen: Introduction to Algorithms.\n",
        "* Libro Web: Introduccion a Python.\n",
        "* Daniel T. Joyce: Object-Oriented Data Structures.\n",
        "* John C. Mitchell: Concepts in programing Languages."
      ]
    }
  ],
  "metadata": {
    "colab": {
      "provenance": [],
      "toc_visible": true,
      "include_colab_link": true
    },
    "kernelspec": {
      "display_name": "Python 3 (ipykernel)",
      "language": "python",
      "name": "python3"
    },
    "language_info": {
      "codemirror_mode": {
        "name": "ipython",
        "version": 3
      },
      "file_extension": ".py",
      "mimetype": "text/x-python",
      "name": "python",
      "nbconvert_exporter": "python",
      "pygments_lexer": "ipython3",
      "version": "3.9.7"
    }
  },
  "nbformat": 4,
  "nbformat_minor": 0
}